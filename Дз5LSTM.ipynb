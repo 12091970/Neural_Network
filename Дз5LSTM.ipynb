{
  "nbformat": 4,
  "nbformat_minor": 0,
  "metadata": {
    "colab": {
      "provenance": []
    },
    "kernelspec": {
      "name": "python3",
      "display_name": "Python 3"
    },
    "language_info": {
      "name": "python"
    }
  },
  "cells": [
    {
      "cell_type": "code",
      "source": [
        "#Попробуйте реализовать нейронную сеть архитектуры LSTM на numpy\n",
        "\n",
        "import numpy as np\n",
        "from keras.preprocessing import sequence\n",
        "from keras.models import Sequential\n",
        "from keras.layers import Dense, Dropout, Embedding, LSTM, Bidirectional\n",
        "from keras.datasets import imdb"
      ],
      "metadata": {
        "id": "w08SQewXK7vq"
      },
      "execution_count": 19,
      "outputs": []
    },
    {
      "cell_type": "code",
      "source": [
        "n_unique_words = 10000 # cut texts after this number of words\n",
        "maxlen = 200\n",
        "batch_size = 128"
      ],
      "metadata": {
        "id": "sRv37tHtLOkL"
      },
      "execution_count": 20,
      "outputs": []
    },
    {
      "cell_type": "code",
      "source": [
        "(x_train, y_train),(x_test, y_test) = imdb.load_data(num_words=n_unique_words)"
      ],
      "metadata": {
        "colab": {
          "base_uri": "https://localhost:8080/"
        },
        "id": "yQpV-i8vLX3f",
        "outputId": "9bdb9deb-4b76-49b5-e447-ec4c0306763e"
      },
      "execution_count": 21,
      "outputs": [
        {
          "output_type": "stream",
          "name": "stdout",
          "text": [
            "Downloading data from https://storage.googleapis.com/tensorflow/tf-keras-datasets/imdb.npz\n",
            "17464789/17464789 [==============================] - 0s 0us/step\n"
          ]
        }
      ]
    },
    {
      "cell_type": "code",
      "source": [
        "x_train = sequence.pad_sequences(x_train, maxlen=maxlen)\n",
        "x_test = sequence.pad_sequences(x_test, maxlen=maxlen)\n",
        "y_train = np.array(y_train)\n",
        "y_test = np.array(y_test)"
      ],
      "metadata": {
        "id": "zRhhTUrBLfs1"
      },
      "execution_count": 22,
      "outputs": []
    },
    {
      "cell_type": "code",
      "source": [
        "model = Sequential()\n",
        "model.add(Embedding(n_unique_words, 128, input_length=maxlen))\n",
        "model.add(Bidirectional(LSTM(64)))\n",
        "model.add(Dropout(0.5))\n",
        "model.add(Dense(1, activation='sigmoid'))\n",
        "model.compile(loss='binary_crossentropy', optimizer='adam', metrics=['accuracy'])"
      ],
      "metadata": {
        "id": "2l8gy1vCLqR9"
      },
      "execution_count": 23,
      "outputs": []
    },
    {
      "cell_type": "code",
      "source": [
        "history=model.fit(x_train, y_train,\n",
        "           batch_size=batch_size,\n",
        "           epochs=12,\n",
        "           validation_data=[x_test, y_test])\n",
        "print(history.history['loss'])\n",
        "print(history.history['accuracy'])"
      ],
      "metadata": {
        "colab": {
          "base_uri": "https://localhost:8080/"
        },
        "id": "HYiKT98RL4zv",
        "outputId": "b7460c6e-d9ee-443a-c75b-7c0d0afcac6b"
      },
      "execution_count": 24,
      "outputs": [
        {
          "output_type": "stream",
          "name": "stdout",
          "text": [
            "Epoch 1/12\n",
            "196/196 [==============================] - 223s 1s/step - loss: 0.4600 - accuracy: 0.7789 - val_loss: 0.3248 - val_accuracy: 0.8615\n",
            "Epoch 2/12\n",
            "196/196 [==============================] - 218s 1s/step - loss: 0.2473 - accuracy: 0.9043 - val_loss: 0.3358 - val_accuracy: 0.8694\n",
            "Epoch 3/12\n",
            "196/196 [==============================] - 218s 1s/step - loss: 0.1816 - accuracy: 0.9336 - val_loss: 0.3777 - val_accuracy: 0.8587\n",
            "Epoch 4/12\n",
            "196/196 [==============================] - 218s 1s/step - loss: 0.1406 - accuracy: 0.9496 - val_loss: 0.3994 - val_accuracy: 0.8580\n",
            "Epoch 5/12\n",
            "196/196 [==============================] - 235s 1s/step - loss: 0.1157 - accuracy: 0.9599 - val_loss: 0.4273 - val_accuracy: 0.8601\n",
            "Epoch 6/12\n",
            "196/196 [==============================] - 219s 1s/step - loss: 0.0856 - accuracy: 0.9716 - val_loss: 0.4949 - val_accuracy: 0.8577\n",
            "Epoch 7/12\n",
            "196/196 [==============================] - 217s 1s/step - loss: 0.0568 - accuracy: 0.9810 - val_loss: 0.5703 - val_accuracy: 0.8578\n",
            "Epoch 8/12\n",
            "196/196 [==============================] - 216s 1s/step - loss: 0.0530 - accuracy: 0.9826 - val_loss: 0.5170 - val_accuracy: 0.8517\n",
            "Epoch 9/12\n",
            "196/196 [==============================] - 218s 1s/step - loss: 0.0480 - accuracy: 0.9850 - val_loss: 0.6032 - val_accuracy: 0.8574\n",
            "Epoch 10/12\n",
            "196/196 [==============================] - 177s 906ms/step - loss: 0.0449 - accuracy: 0.9863 - val_loss: 0.6396 - val_accuracy: 0.8499\n",
            "Epoch 11/12\n",
            "196/196 [==============================] - 216s 1s/step - loss: 0.0277 - accuracy: 0.9918 - val_loss: 0.6647 - val_accuracy: 0.8498\n",
            "Epoch 12/12\n",
            "196/196 [==============================] - 216s 1s/step - loss: 0.0271 - accuracy: 0.9917 - val_loss: 0.7389 - val_accuracy: 0.8539\n",
            "[0.4600124955177307, 0.24726705253124237, 0.18158677220344543, 0.14059506356716156, 0.11573831737041473, 0.08556497097015381, 0.056771572679281235, 0.0529748871922493, 0.047977689653635025, 0.04486982896924019, 0.027678007259964943, 0.027096005156636238]\n",
            "[0.7788800001144409, 0.9043200016021729, 0.9335600137710571, 0.9496399760246277, 0.9599199891090393, 0.9715999960899353, 0.9809600114822388, 0.9826400279998779, 0.9849600195884705, 0.9863200187683105, 0.9917600154876709, 0.9917200207710266]\n"
          ]
        }
      ]
    },
    {
      "cell_type": "code",
      "source": [
        "from matplotlib import pyplot\n",
        "pyplot.plot(history.history['loss'])\n",
        "pyplot.plot(history.history['accuracy'])\n",
        "pyplot.title('model loss vs accuracy')\n",
        "pyplot.xlabel('epoch')\n",
        "pyplot.legend(['loss', 'accuracy'], loc='upper right')\n",
        "pyplot.show()"
      ],
      "metadata": {
        "colab": {
          "base_uri": "https://localhost:8080/",
          "height": 472
        },
        "id": "UclNjYT-PmJG",
        "outputId": "11036e89-2f22-4e83-e933-781d15bd1851"
      },
      "execution_count": 25,
      "outputs": [
        {
          "output_type": "display_data",
          "data": {
            "text/plain": [
              "<Figure size 640x480 with 1 Axes>"
            ],
            "image/png": "[encoded data removed]"
          },
          "metadata": {}
        }
      ]
    },
    {
      "cell_type": "markdown",
      "source": [
        "Здесь мы можем видеть производительность bi-LSTM. Теперь ясно, что линия точности все время близка к единице, а потери практически равны нулю. Таким образом, модель хорошо зарекомендовала себя на тренировках."
      ],
      "metadata": {
        "id": "4fJMTxzcWbuW"
      }
    },
    {
      "cell_type": "markdown",
      "source": [
        "Cоздали базовую модель BI-LSTM для классификации текста. Мы можем использовать её с текстовыми данными, аудиоданными, данными временных рядов и т.д. для получения лучших результатов.\n",
        "\n",
        "\n"
      ],
      "metadata": {
        "id": "oQdjh2usYH45"
      }
    }
  ]
}