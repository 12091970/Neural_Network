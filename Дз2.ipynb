{
  "nbformat": 4,
  "nbformat_minor": 0,
  "metadata": {
    "colab": {
      "provenance": []
    },
    "kernelspec": {
      "name": "python3",
      "display_name": "Python 3"
    },
    "language_info": {
      "name": "python"
    }
  },
  "cells": [
    {
      "cell_type": "code",
      "execution_count": null,
      "metadata": {
        "id": "2g36ljDg4wC8"
      },
      "outputs": [],
      "source": [
        "from keras.datasets import imdb\n",
        "from keras.models import Sequential\n",
        "from keras.layers import Dense, Dropout, Activation\n",
        "from keras.preprocessing.text import Tokenizer\n"
      ]
    },
    {
      "cell_type": "code",
      "source": [
        "#Загрузим данные и разделим их на обучающие и тестовые выборки:\n",
        "(x_train, y_train), (x_test, y_test) = imdb.load_data(num_words=1000)\n",
        "\n",
        "\n"
      ],
      "metadata": {
        "id": "Lt6wM8HTEss2"
      },
      "execution_count": null,
      "outputs": []
    },
    {
      "cell_type": "code",
      "source": [
        "#Преобразуем наши данные в форму, которую может использовать наша нейронная сеть:\n",
        "\n",
        "tokenizer = Tokenizer(num_words=1000)\n",
        "x_train = tokenizer.sequences_to_matrix(x_train, mode='binary')\n",
        "x_test = tokenizer.sequences_to_matrix(x_test, mode='binary')"
      ],
      "metadata": {
        "id": "2NDtmKZavgDm"
      },
      "execution_count": null,
      "outputs": []
    },
    {
      "cell_type": "code",
      "source": [
        "#Создадим модель нейронной сети:\n",
        "model = Sequential()\n",
        "model.add(Dense(512, input_shape=(1000,)))\n",
        "model.add(Activation('relu'))\n",
        "model.add(Dropout(0.5))\n",
        "model.add(Dense(1))\n",
        "model.add(Activation('sigmoid'))"
      ],
      "metadata": {
        "id": "87Q6qa7_vw1T"
      },
      "execution_count": null,
      "outputs": []
    },
    {
      "cell_type": "code",
      "source": [
        "#Скомпилируем модель, указав функцию потерь, оптимизатор и метрику для оценки производительности:\n",
        "model.compile(loss='binary_crossentropy', optimizer='adam', metrics=['accuracy'])\n"
      ],
      "metadata": {
        "id": "pFeBCs04v-cv"
      },
      "execution_count": null,
      "outputs": []
    },
    {
      "cell_type": "code",
      "source": [
        "#Обучим модель на обучающих данных:\n",
        "model.fit(x_train, y_train, batch_size=32, epochs=10, validation_data=(x_test, y_test))"
      ],
      "metadata": {
        "colab": {
          "base_uri": "https://localhost:8080/"
        },
        "id": "qnFiHbNewMR4",
        "outputId": "505a429a-19ec-4a6c-9f36-83e27e505670"
      },
      "execution_count": null,
      "outputs": [
        {
          "output_type": "stream",
          "name": "stdout",
          "text": [
            "Epoch 1/10\n",
            "782/782 [==============================] - 6s 7ms/step - loss: 0.3846 - accuracy: 0.8316 - val_loss: 0.3242 - val_accuracy: 0.8596\n",
            "Epoch 2/10\n",
            "782/782 [==============================] - 6s 8ms/step - loss: 0.3100 - accuracy: 0.8656 - val_loss: 0.3175 - val_accuracy: 0.8624\n",
            "Epoch 3/10\n",
            "782/782 [==============================] - 6s 7ms/step - loss: 0.2727 - accuracy: 0.8870 - val_loss: 0.3239 - val_accuracy: 0.8596\n",
            "Epoch 4/10\n",
            "782/782 [==============================] - 6s 8ms/step - loss: 0.2300 - accuracy: 0.9075 - val_loss: 0.3229 - val_accuracy: 0.8595\n",
            "Epoch 5/10\n",
            "782/782 [==============================] - 6s 7ms/step - loss: 0.1750 - accuracy: 0.9356 - val_loss: 0.3536 - val_accuracy: 0.8513\n",
            "Epoch 6/10\n",
            "782/782 [==============================] - 6s 8ms/step - loss: 0.1227 - accuracy: 0.9587 - val_loss: 0.3637 - val_accuracy: 0.8600\n",
            "Epoch 7/10\n",
            "782/782 [==============================] - 6s 7ms/step - loss: 0.0822 - accuracy: 0.9741 - val_loss: 0.4006 - val_accuracy: 0.8572\n",
            "Epoch 8/10\n",
            "782/782 [==============================] - 6s 8ms/step - loss: 0.0602 - accuracy: 0.9824 - val_loss: 0.4227 - val_accuracy: 0.8549\n",
            "Epoch 9/10\n",
            "782/782 [==============================] - 6s 8ms/step - loss: 0.0436 - accuracy: 0.9863 - val_loss: 0.4494 - val_accuracy: 0.8568\n",
            "Epoch 10/10\n",
            "782/782 [==============================] - 6s 8ms/step - loss: 0.0356 - accuracy: 0.9901 - val_loss: 0.4765 - val_accuracy: 0.8560\n"
          ]
        },
        {
          "output_type": "execute_result",
          "data": {
            "text/plain": [
              "<keras.src.callbacks.History at 0x7935d2a959c0>"
            ]
          },
          "metadata": {},
          "execution_count": 88
        }
      ]
    },
    {
      "cell_type": "code",
      "source": [
        "#Оценим производительность модели на тестовых данных:\n",
        "score = model.evaluate(x_test, y_test, batch_size=32)\n",
        "print(\"Test accuracy: %.2f%%\" % (score[1]*100))\n"
      ],
      "metadata": {
        "colab": {
          "base_uri": "https://localhost:8080/"
        },
        "id": "17h_mWZ2wq4c",
        "outputId": "d1c22d2d-a299-4640-d5c5-e855bcae86c3"
      },
      "execution_count": null,
      "outputs": [
        {
          "output_type": "stream",
          "name": "stdout",
          "text": [
            "782/782 [==============================] - 2s 2ms/step - loss: 0.4765 - accuracy: 0.8560\n",
            "Test accuracy: 85.60%\n"
          ]
        }
      ]
    },
    {
      "cell_type": "markdown",
      "source": [
        "Если Test accuracy менее 50% запускаем все подпрограммы еще раз."
      ],
      "metadata": {
        "id": "gf6JpO-GyLYx"
      }
    },
    {
      "cell_type": "code",
      "source": [
        "#Чтобы использовать нашу модель для распознавания текста, вводим текст и преобразовываем\n",
        "#его в форму, которую может использовать модель.\n"
      ],
      "metadata": {
        "id": "iC6BdGXRxSEA"
      },
      "execution_count": null,
      "outputs": []
    },
    {
      "cell_type": "code",
      "source": [
        "#Сначала создайте экземпляр `Tokenizer`, который вы использовали для\n",
        "#преобразования данных обучения и тестирования:\n",
        "\n",
        "tokenizer = Tokenizer(num_words=1000)\n"
      ],
      "metadata": {
        "id": "c64BBUb4zPI6"
      },
      "execution_count": null,
      "outputs": []
    },
    {
      "cell_type": "code",
      "source": [
        "#Преобразуйте ваш текст в числовой вектор, используя `tokenizer.texts_to_sequences()`:\n",
        "input_text = \"AA AA AAA.\"\n",
        "input_seq = tokenizer.texts_to_sequences([input_text])"
      ],
      "metadata": {
        "id": "Ug4D2NplzRGO"
      },
      "execution_count": null,
      "outputs": []
    },
    {
      "cell_type": "code",
      "source": [
        "#Преобразуйте числовой вектор в форму, которую может использовать модель, используя `\n",
        "#tokenizer.sequences_to_matrix()`:\n",
        "input_vec = tokenizer.sequences_to_matrix(input_seq, mode='binary')"
      ],
      "metadata": {
        "id": "V74KwfBIzrXH"
      },
      "execution_count": null,
      "outputs": []
    },
    {
      "cell_type": "code",
      "source": [
        "#Используйте `model.predict()` для получения прогноза модели для вашего текста:\n",
        "prediction = model.predict(input_vec)[0][0]"
      ],
      "metadata": {
        "colab": {
          "base_uri": "https://localhost:8080/"
        },
        "id": "BNDl2AOlz92_",
        "outputId": "a9fb02be-3763-4872-eef2-c3288b106266"
      },
      "execution_count": null,
      "outputs": [
        {
          "output_type": "stream",
          "name": "stdout",
          "text": [
            "1/1 [==============================] - 0s 16ms/step\n"
          ]
        }
      ]
    },
    {
      "cell_type": "code",
      "source": [
        "\n",
        "#Если значение предсказания больше или равно 0,5, то текст будет отнесен к положительному классу,\n",
        "#иначе - к отрицательному классу:\n",
        "if prediction >= 0.5:\n",
        "   print(\"This is a positive text.\")\n",
        "else:\n",
        "   print(\"This is a negative text.\")\n"
      ],
      "metadata": {
        "colab": {
          "base_uri": "https://localhost:8080/"
        },
        "id": "9GXA3V310jQO",
        "outputId": "77dc0c3f-2b30-4f0e-f88b-77a2b5b09143"
      },
      "execution_count": null,
      "outputs": [
        {
          "output_type": "stream",
          "name": "stdout",
          "text": [
            "This is a positive text.\n"
          ]
        }
      ]
    }
  ]
}